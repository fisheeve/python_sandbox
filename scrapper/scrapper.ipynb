{
 "cells": [
  {
   "cell_type": "code",
   "execution_count": 1,
   "metadata": {},
   "outputs": [],
   "source": [
    "import requests\n",
    "import lxml.html as lh\n",
    "import pandas as pd\n",
    "\n",
    "from bs4 import BeautifulSoup"
   ]
  },
  {
   "cell_type": "code",
   "execution_count": 2,
   "metadata": {},
   "outputs": [],
   "source": [
    "url='https://osu.ppy.sh/rankings/osu/performance'\n",
    "page = requests.get(url)\n",
    "doc = lh.fromstring(page.content)\n",
    "tr_elements = doc.xpath('//tr')\n"
   ]
  },
  {
   "cell_type": "code",
   "execution_count": 3,
   "metadata": {},
   "outputs": [
    {
     "data": {
      "text/plain": [
       "[('Rank', []),\n",
       " ('Username', []),\n",
       " ('Accuracy', []),\n",
       " ('Play Count', []),\n",
       " ('Performance', []),\n",
       " ('SS', []),\n",
       " ('S', []),\n",
       " ('A', [])]"
      ]
     },
     "execution_count": 3,
     "metadata": {},
     "output_type": "execute_result"
    }
   ],
   "source": [
    "tr_elements = doc.xpath('//tr')\n",
    "#Create empty list\n",
    "col = []\n",
    "i = 0\n",
    "#For each row, store each first element (header) and an empty list\n",
    "for t in tr_elements[0]:\n",
    "    i += 1\n",
    "    name = t.text_content().replace('\\n                    ', '')\n",
    "    name = name.replace('\\n                ', '')\n",
    "    col.append((name,[]))\n",
    "\n",
    "col[0] = (\"Rank\", [])\n",
    "col[1] = (\"Username\", [])\n",
    "\n",
    "col"
   ]
  },
  {
   "cell_type": "code",
   "execution_count": 4,
   "metadata": {},
   "outputs": [],
   "source": [
    "for j in range(1,len(tr_elements)):\n",
    "    #T is j'th row\n",
    "    T=tr_elements[j]\n",
    "    \n",
    "    #i is the index of our column\n",
    "    i=0\n",
    "    \n",
    "    #Iterate through each element of the row\n",
    "    for t in T.iterchildren():\n",
    "        data=t.text_content() \n",
    "        #Check if row is empty\n",
    "        if i>0:\n",
    "        #Convert any numerical value to integers\n",
    "            try:\n",
    "                data=float(data.replace(',', '.'))\n",
    "            except:\n",
    "                pass\n",
    "        #Append the data to the empty list of the i'th column\n",
    "        col[i][1].append(data)\n",
    "        #Increment i for the next column\n",
    "        i+=1\n",
    "        "
   ]
  },
  {
   "cell_type": "code",
   "execution_count": 5,
   "metadata": {},
   "outputs": [],
   "source": [
    "Dict={title:column for (title,column) in col}\n",
    "df=pd.DataFrame(Dict)\n",
    "\n",
    "df = df.replace('\\n                    ',value='' , regex=True)\n"
   ]
  },
  {
   "cell_type": "code",
   "execution_count": 6,
   "metadata": {},
   "outputs": [
    {
     "data": {
      "text/html": [
       "<div>\n",
       "<style scoped>\n",
       "    .dataframe tbody tr th:only-of-type {\n",
       "        vertical-align: middle;\n",
       "    }\n",
       "\n",
       "    .dataframe tbody tr th {\n",
       "        vertical-align: top;\n",
       "    }\n",
       "\n",
       "    .dataframe thead th {\n",
       "        text-align: right;\n",
       "    }\n",
       "</style>\n",
       "<table border=\"1\" class=\"dataframe\">\n",
       "  <thead>\n",
       "    <tr style=\"text-align: right;\">\n",
       "      <th></th>\n",
       "      <th>Rank</th>\n",
       "      <th>Username</th>\n",
       "      <th>Accuracy</th>\n",
       "      <th>Play Count</th>\n",
       "      <th>Performance</th>\n",
       "      <th>SS</th>\n",
       "      <th>S</th>\n",
       "      <th>A</th>\n",
       "    </tr>\n",
       "  </thead>\n",
       "  <tbody>\n",
       "    <tr>\n",
       "      <th>0</th>\n",
       "      <td>#1</td>\n",
       "      <td>...</td>\n",
       "      <td>98.66%</td>\n",
       "      <td>137.197</td>\n",
       "      <td>16.843</td>\n",
       "      <td>57.0</td>\n",
       "      <td>890.0</td>\n",
       "      <td>988.0</td>\n",
       "    </tr>\n",
       "    <tr>\n",
       "      <th>1</th>\n",
       "      <td>#2</td>\n",
       "      <td>...</td>\n",
       "      <td>99.22%</td>\n",
       "      <td>60.662</td>\n",
       "      <td>16.249</td>\n",
       "      <td>26.0</td>\n",
       "      <td>686.0</td>\n",
       "      <td>621.0</td>\n",
       "    </tr>\n",
       "    <tr>\n",
       "      <th>2</th>\n",
       "      <td>#3</td>\n",
       "      <td>...</td>\n",
       "      <td>98.07%</td>\n",
       "      <td>90.685</td>\n",
       "      <td>16.019</td>\n",
       "      <td>36.0</td>\n",
       "      <td>734.0</td>\n",
       "      <td>654.0</td>\n",
       "    </tr>\n",
       "    <tr>\n",
       "      <th>3</th>\n",
       "      <td>#4</td>\n",
       "      <td>...</td>\n",
       "      <td>98.09%</td>\n",
       "      <td>66.731</td>\n",
       "      <td>15.913</td>\n",
       "      <td>14.0</td>\n",
       "      <td>508.0</td>\n",
       "      <td>914.0</td>\n",
       "    </tr>\n",
       "    <tr>\n",
       "      <th>4</th>\n",
       "      <td>#5</td>\n",
       "      <td>...</td>\n",
       "      <td>97.89%</td>\n",
       "      <td>75.440</td>\n",
       "      <td>15.547</td>\n",
       "      <td>22.0</td>\n",
       "      <td>476.0</td>\n",
       "      <td>435.0</td>\n",
       "    </tr>\n",
       "  </tbody>\n",
       "</table>\n",
       "</div>"
      ],
      "text/plain": [
       "     Rank                                           Username    Accuracy  \\\n",
       "0      #1                                                ...      98.66%   \n",
       "1      #2                                                ...      99.22%   \n",
       "2      #3                                                ...      98.07%   \n",
       "3      #4                                                ...      98.09%   \n",
       "4      #5                                                ...      97.89%   \n",
       "\n",
       "   Play Count  Performance    SS      S      A  \n",
       "0     137.197       16.843  57.0  890.0  988.0  \n",
       "1      60.662       16.249  26.0  686.0  621.0  \n",
       "2      90.685       16.019  36.0  734.0  654.0  \n",
       "3      66.731       15.913  14.0  508.0  914.0  \n",
       "4      75.440       15.547  22.0  476.0  435.0  "
      ]
     },
     "execution_count": 6,
     "metadata": {},
     "output_type": "execute_result"
    }
   ],
   "source": [
    "df.head()"
   ]
  },
  {
   "cell_type": "code",
   "execution_count": 7,
   "metadata": {},
   "outputs": [],
   "source": [
    "soup = BeautifulSoup(page.content, \"html.parser\")"
   ]
  },
  {
   "cell_type": "code",
   "execution_count": 8,
   "metadata": {},
   "outputs": [],
   "source": [
    "names = soup.find_all('a', \n",
    "        class_=\"ranking-page-table__user-link-text js-usercard\")\n",
    "\n",
    "names_list = []\n",
    "for name in names:\n",
    "    names_list.append(name.get_text().split(sep='>')[-1][33:-29])\n",
    "\n",
    "df['Username'] = names_list"
   ]
  },
  {
   "cell_type": "code",
   "execution_count": 9,
   "metadata": {},
   "outputs": [],
   "source": [
    "countries = soup.find_all(\"span\", class_=\"flag-country\")\n",
    "\n",
    "countries_list = []\n",
    "for country in countries:\n",
    "    countries_list.append(country.get('title'))\n",
    "\n",
    "df.insert(loc=1, column='Country', value=countries_list)    "
   ]
  },
  {
   "cell_type": "code",
   "execution_count": 10,
   "metadata": {},
   "outputs": [
    {
     "data": {
      "text/html": [
       "<div>\n",
       "<style scoped>\n",
       "    .dataframe tbody tr th:only-of-type {\n",
       "        vertical-align: middle;\n",
       "    }\n",
       "\n",
       "    .dataframe tbody tr th {\n",
       "        vertical-align: top;\n",
       "    }\n",
       "\n",
       "    .dataframe thead th {\n",
       "        text-align: right;\n",
       "    }\n",
       "</style>\n",
       "<table border=\"1\" class=\"dataframe\">\n",
       "  <thead>\n",
       "    <tr style=\"text-align: right;\">\n",
       "      <th></th>\n",
       "      <th>Rank</th>\n",
       "      <th>Country</th>\n",
       "      <th>Username</th>\n",
       "      <th>Accuracy</th>\n",
       "      <th>Play Count</th>\n",
       "      <th>Performance</th>\n",
       "      <th>SS</th>\n",
       "      <th>S</th>\n",
       "      <th>A</th>\n",
       "    </tr>\n",
       "  </thead>\n",
       "  <tbody>\n",
       "    <tr>\n",
       "      <th>0</th>\n",
       "      <td>#1</td>\n",
       "      <td>United States</td>\n",
       "      <td>Vaxei</td>\n",
       "      <td>98.66%</td>\n",
       "      <td>137.197</td>\n",
       "      <td>16.843</td>\n",
       "      <td>57.0</td>\n",
       "      <td>890.0</td>\n",
       "      <td>988.0</td>\n",
       "    </tr>\n",
       "    <tr>\n",
       "      <th>1</th>\n",
       "      <td>#2</td>\n",
       "      <td>United States</td>\n",
       "      <td>idke</td>\n",
       "      <td>99.22%</td>\n",
       "      <td>60.662</td>\n",
       "      <td>16.249</td>\n",
       "      <td>26.0</td>\n",
       "      <td>686.0</td>\n",
       "      <td>621.0</td>\n",
       "    </tr>\n",
       "    <tr>\n",
       "      <th>2</th>\n",
       "      <td>#3</td>\n",
       "      <td>South Korea</td>\n",
       "      <td>FlyingTuna</td>\n",
       "      <td>98.07%</td>\n",
       "      <td>90.685</td>\n",
       "      <td>16.019</td>\n",
       "      <td>36.0</td>\n",
       "      <td>734.0</td>\n",
       "      <td>654.0</td>\n",
       "    </tr>\n",
       "    <tr>\n",
       "      <th>3</th>\n",
       "      <td>#4</td>\n",
       "      <td>United States</td>\n",
       "      <td>Freddie Benson</td>\n",
       "      <td>98.09%</td>\n",
       "      <td>66.731</td>\n",
       "      <td>15.913</td>\n",
       "      <td>14.0</td>\n",
       "      <td>508.0</td>\n",
       "      <td>914.0</td>\n",
       "    </tr>\n",
       "    <tr>\n",
       "      <th>4</th>\n",
       "      <td>#5</td>\n",
       "      <td>Russian Federation</td>\n",
       "      <td>Alumetri</td>\n",
       "      <td>97.89%</td>\n",
       "      <td>75.440</td>\n",
       "      <td>15.547</td>\n",
       "      <td>22.0</td>\n",
       "      <td>476.0</td>\n",
       "      <td>435.0</td>\n",
       "    </tr>\n",
       "  </tbody>\n",
       "</table>\n",
       "</div>"
      ],
      "text/plain": [
       "     Rank             Country        Username    Accuracy  Play Count  \\\n",
       "0      #1       United States           Vaxei      98.66%     137.197   \n",
       "1      #2       United States            idke      99.22%      60.662   \n",
       "2      #3         South Korea      FlyingTuna      98.07%      90.685   \n",
       "3      #4       United States  Freddie Benson      98.09%      66.731   \n",
       "4      #5  Russian Federation        Alumetri      97.89%      75.440   \n",
       "\n",
       "   Performance    SS      S      A  \n",
       "0       16.843  57.0  890.0  988.0  \n",
       "1       16.249  26.0  686.0  621.0  \n",
       "2       16.019  36.0  734.0  654.0  \n",
       "3       15.913  14.0  508.0  914.0  \n",
       "4       15.547  22.0  476.0  435.0  "
      ]
     },
     "execution_count": 10,
     "metadata": {},
     "output_type": "execute_result"
    }
   ],
   "source": [
    "df.head()"
   ]
  },
  {
   "cell_type": "code",
   "execution_count": 11,
   "metadata": {},
   "outputs": [],
   "source": [
    "df.to_csv(\"./osu_ranking_top50\")"
   ]
  },
  {
   "cell_type": "code",
   "execution_count": null,
   "metadata": {},
   "outputs": [],
   "source": []
  }
 ],
 "metadata": {
  "kernelspec": {
   "display_name": "Python 3",
   "language": "python",
   "name": "python3"
  },
  "language_info": {
   "codemirror_mode": {
    "name": "ipython",
    "version": 3
   },
   "file_extension": ".py",
   "mimetype": "text/x-python",
   "name": "python",
   "nbconvert_exporter": "python",
   "pygments_lexer": "ipython3",
   "version": "3.7.3"
  }
 },
 "nbformat": 4,
 "nbformat_minor": 2
}
